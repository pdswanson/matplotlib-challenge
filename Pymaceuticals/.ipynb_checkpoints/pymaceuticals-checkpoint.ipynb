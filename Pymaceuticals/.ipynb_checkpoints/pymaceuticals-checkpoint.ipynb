{
 "cells": [
  {
   "cell_type": "markdown",
   "metadata": {},
   "source": [
    "## Observations and Insights"
   ]
  },
  {
   "cell_type": "markdown",
   "metadata": {},
   "source": [
    "1. The standard error margins for Ramicane and Capomulin were markedly lower than those for the other drug regimens in this study, while also drawing from larger samples.\n",
    "\n",
    "2. No potential outliers were detected across the four regimens analyzed (Capomulin, Ramicane, Infubinol, Ceftamin).\n",
    "\n",
    "3. There was a moderate positive correlation (0.5257) between mouse weight and average tumor volume for the Capomulin regimen."
   ]
  },
  {
   "cell_type": "markdown",
   "metadata": {},
   "source": [
    "## Dependencies and starter code"
   ]
  },
  {
   "cell_type": "code",
   "execution_count": null,
   "metadata": {},
   "outputs": [],
   "source": [
    "# Dependencies and Setup\n",
    "import matplotlib.pyplot as plt\n",
    "import pandas as pd\n",
    "import numpy as np\n",
    "import scipy.stats as st\n",
    "import scipy as sp\n",
    "%matplotlib notebook\n",
    "\n",
    "# Study data files\n",
    "mouse_metadata = \"data/Mouse_metadata.csv\"\n",
    "study_results = \"data/Study_results.csv\"\n",
    "\n",
    "# Read the mouse data and the study results\n",
    "mouse_metadata = pd.read_csv(mouse_metadata)\n",
    "study_results = pd.read_csv(study_results)\n",
    "\n",
    "# Combine the data into a single dataset\n",
    "merge_mouse = pd.merge(mouse_metadata, study_results, on=\"Mouse ID\", how=\"outer\")\n",
    "merge_mouse.head()"
   ]
  },
  {
   "cell_type": "markdown",
   "metadata": {},
   "source": [
    "## Summary statistics"
   ]
  },
  {
   "cell_type": "code",
   "execution_count": null,
   "metadata": {},
   "outputs": [],
   "source": [
    "# Generate a summary statistics table of mean, median, variance, standard deviation, and SEM\n",
    "# of the tumor volume for each regimen\n",
    "reg_mea = pd.DataFrame(merge_mouse.groupby(['Drug Regimen']).mean()['Tumor Volume (mm3)'])\n",
    "reg_mea = reg_mea.rename(columns={'Tumor Volume (mm3)':'Mean'})\n",
    "reg_med = pd.DataFrame(merge_mouse.groupby(['Drug Regimen']).median()['Tumor Volume (mm3)'])\n",
    "reg_med = reg_med.rename(columns={'Tumor Volume (mm3)':'Median'})\n",
    "reg_var = pd.DataFrame(merge_mouse.groupby(['Drug Regimen']).var()['Tumor Volume (mm3)'])\n",
    "reg_var = reg_var.rename(columns={'Tumor Volume (mm3)':'Variance'})\n",
    "reg_std = pd.DataFrame(merge_mouse.groupby(['Drug Regimen']).std()['Tumor Volume (mm3)'])\n",
    "reg_std = reg_std.rename(columns={'Tumor Volume (mm3)':'StDev'})\n",
    "reg_sem = pd.DataFrame(merge_mouse.groupby(['Drug Regimen']).sem()['Tumor Volume (mm3)'])\n",
    "reg_sem = reg_sem.rename(columns={'Tumor Volume (mm3)':'SEM'})\n",
    "regimen = [reg_mea, reg_med, reg_var, reg_std, reg_sem]\n",
    "regimen = pd.concat(regimen,axis=1,join='inner')\n",
    "regimen"
   ]
  },
  {
   "cell_type": "markdown",
   "metadata": {},
   "source": [
    "## Bar plots"
   ]
  },
  {
   "cell_type": "code",
   "execution_count": null,
   "metadata": {},
   "outputs": [],
   "source": [
    "# Generate a bar plot showing number of data points for each treatment regimen using pandas\n",
    "reg_pandas = merge_mouse['Drug Regimen'].value_counts()\n",
    "reg_pandas_bar = reg_pandas.plot(kind='bar', facecolor='red')\n",
    "plt.title('Data Points by Treatment Regimen')\n",
    "plt.xlabel('Drug Regimen')\n",
    "plt.ylabel('Data Points')"
   ]
  },
  {
   "cell_type": "code",
   "execution_count": null,
   "metadata": {},
   "outputs": [],
   "source": [
    "# Generate a bar plot showing number of data points for each treatment regimen using pyplot\n",
    "reg_pyplot = ['Capomulin', 'Ramicane', 'Ketapril', 'Naftisol', 'Zoniferol', 'Placebo', 'Stelasyn', 'Ceftamin',\n",
    "              'Infubinol', 'Propriva']\n",
    "dat_points = [230, 228, 188, 186, 182, 181, 181, 178, 178, 161]\n",
    "x_axis = np.arange(len(dat_points))\n",
    "plt.bar(x_axis, dat_points, color='b', align='center')\n",
    "tick_locations = [value for value in x_axis]\n",
    "plt.xticks(rotation=90)\n",
    "plt.xticks(tick_locations, reg_pyplot)\n",
    "plt.xlim(-0.75, len(x_axis)-0.25)\n",
    "plt.ylim(0, max(dat_points)+10)\n",
    "plt.title('Data Points by Treatment Regimen')\n",
    "plt.xlabel('Drug Regimen')\n",
    "plt.ylabel('Data Points')\n",
    "plt.show()"
   ]
  },
  {
   "cell_type": "markdown",
   "metadata": {},
   "source": [
    "## Pie plots"
   ]
  },
  {
   "cell_type": "code",
   "execution_count": null,
   "metadata": {},
   "outputs": [],
   "source": [
    "# Generate a pie plot showing the distribution of female versus male mice using pandas\n",
    "mal_fem = pd.DataFrame(merge_mouse['Sex'].value_counts())\n",
    "mal_fem"
   ]
  },
  {
   "cell_type": "code",
   "execution_count": null,
   "metadata": {},
   "outputs": [],
   "source": [
    "gen_pan = pd.DataFrame({'Gender':[958, 935]}, index = ['Male', 'Female'])\n",
    "chart_x = gen_pan.plot.pie(y='Gender', figsize=(5, 5), autopct='%1.1f%%', startangle=60)"
   ]
  },
  {
   "cell_type": "code",
   "execution_count": null,
   "metadata": {},
   "outputs": [],
   "source": [
    "# Generate a pie plot showing the distribution of female versus male mice using pyplot\n",
    "gen_pyp = pd.DataFrame(merge_mouse['Sex'].value_counts())\n",
    "labels = ['Male', 'Female']\n",
    "plt.pie(gen_pyp.values.ravel(), labels=labels, autopct='%1.1f%%', startangle=60)\n",
    "plt.title('Gender')\n",
    "plt.legend()\n",
    "plt.tight_layout()\n",
    "plt.show()"
   ]
  },
  {
   "cell_type": "markdown",
   "metadata": {},
   "source": [
    "## Quartiles, outliers and boxplots"
   ]
  },
  {
   "cell_type": "code",
   "execution_count": null,
   "metadata": {},
   "outputs": [],
   "source": [
    "# Calculate the final tumor volume of each mouse across four of the most promising treatment regimens.\n",
    "# Calculate the IQR and quantitatively determine if there are any potential outliers.\n",
    "final_vol = merge_mouse.loc[(merge_mouse['Timepoint'] == 45)]\n",
    "capo = final_vol.groupby(['Drug Regimen']).get_group('Capomulin')\n",
    "capo.head()"
   ]
  },
  {
   "cell_type": "code",
   "execution_count": null,
   "metadata": {},
   "outputs": [],
   "source": [
    "rami = final_vol.groupby(['Drug Regimen']).get_group('Ramicane')\n",
    "rami.head()"
   ]
  },
  {
   "cell_type": "code",
   "execution_count": null,
   "metadata": {},
   "outputs": [],
   "source": [
    "infu = final_vol.groupby(['Drug Regimen']).get_group('Infubinol')\n",
    "infu.head()"
   ]
  },
  {
   "cell_type": "code",
   "execution_count": null,
   "metadata": {},
   "outputs": [],
   "source": [
    "ceft = final_vol.groupby(['Drug Regimen']).get_group('Ceftamin')\n",
    "ceft.head()"
   ]
  },
  {
   "cell_type": "code",
   "execution_count": null,
   "metadata": {},
   "outputs": [],
   "source": [
    "capo_quar = capo.quantile([.25,.5,.75])\n",
    "capo_quar"
   ]
  },
  {
   "cell_type": "code",
   "execution_count": null,
   "metadata": {},
   "outputs": [],
   "source": [
    "rami_quar = rami.quantile([.25,.5,.75])\n",
    "rami_quar"
   ]
  },
  {
   "cell_type": "code",
   "execution_count": null,
   "metadata": {},
   "outputs": [],
   "source": [
    "infu_quar = infu.quantile([.25,.5,.75])\n",
    "infu_quar"
   ]
  },
  {
   "cell_type": "code",
   "execution_count": null,
   "metadata": {},
   "outputs": [],
   "source": [
    "ceft_quar = ceft.quantile([.25,.5,.75])\n",
    "ceft_quar"
   ]
  },
  {
   "cell_type": "code",
   "execution_count": null,
   "metadata": {},
   "outputs": [],
   "source": [
    "capo_low = capo_quar.iloc[0,3]\n",
    "capo_upp = capo_quar.iloc[2,3]\n",
    "capo_iqr = (capo_upp - capo_low).round(3)\n",
    "rami_low = rami_quar.iloc[0,3]\n",
    "rami_upp = rami_quar.iloc[2,3]\n",
    "rami_iqr = (rami_upp - rami_low).round(3)\n",
    "infu_low = infu_quar.iloc[0,3]\n",
    "infu_upp = infu_quar.iloc[2,3]\n",
    "infu_iqr = (infu_upp - infu_low).round(3)\n",
    "ceft_low = ceft_quar.iloc[0,3]\n",
    "ceft_upp = ceft_quar.iloc[2,3]\n",
    "ceft_iqr = (ceft_upp - ceft_low).round(3)\n",
    "print(f\"The IQR for Capomulin is {capo_iqr}.\")\n",
    "print(f\"The IQR for Ramicane is {rami_iqr}.\")\n",
    "print(f\"The IQR for Infubinol is {infu_iqr}.\")\n",
    "print(f\"The IQR for Ceftamin is {ceft_iqr}.\")"
   ]
  },
  {
   "cell_type": "code",
   "execution_count": null,
   "metadata": {},
   "outputs": [],
   "source": [
    "capo_lob = (capo_low - (1.5 * capo_iqr)).round(3)\n",
    "capo_upb = (capo_upp + (1.5 * capo_iqr)).round(3)\n",
    "rami_lob = (rami_low - (1.5 * rami_iqr)).round(3)\n",
    "rami_upb = (rami_upp + (1.5 * rami_iqr)).round(3)\n",
    "infu_lob = (infu_low - (1.5 * infu_iqr)).round(3)\n",
    "infu_upb = (infu_upp + (1.5 * infu_iqr)).round(3)\n",
    "ceft_lob = (ceft_low - (1.5 * ceft_iqr)).round(3)\n",
    "ceft_upb = (ceft_upp + (1.5 * ceft_iqr)).round(3)\n",
    "print(f\"Potential outliers for Capomulin are values below {capo_lob} and above {capo_upb}.\")\n",
    "print(f\"Potential outliers for Ramicane are values below {rami_lob} and above {rami_upb}.\")\n",
    "print(f\"Potential outliers for Infubinol are values below {infu_lob} and above {infu_upb}.\")\n",
    "print(f\"Potential outliers for Ceftamin are values below {ceft_lob} and above {ceft_upb}.\")"
   ]
  },
  {
   "cell_type": "code",
   "execution_count": null,
   "metadata": {},
   "outputs": [],
   "source": [
    "# Generate a box plot of the final tumor volume of each mouse across four regimens of interest\n",
    "regi_fin = ['Capomulin', 'Ramicane', 'Infubinol', 'Ceftamin']\n",
    "data = [capo['Tumor Volume (mm3)'], rami['Tumor Volume (mm3)'], infu['Tumor Volume (mm3)'], ceft['Tumor Volume (mm3)']]\n",
    "fig, axs = plt.subplots(figsize=(8, 5))\n",
    "axs.set_title('Treatment of Tumors in Mice')\n",
    "axs.set_xlabel('Drug Regimen')\n",
    "axs.set_ylabel('Final Tumor Volume (mm3)')\n",
    "axs.set_xticklabels(np.repeat(regi_fin, 1))\n",
    "axs.boxplot(data)\n",
    "plt.show()"
   ]
  },
  {
   "cell_type": "markdown",
   "metadata": {},
   "source": [
    "## Line and scatter plots"
   ]
  },
  {
   "cell_type": "code",
   "execution_count": null,
   "metadata": {},
   "outputs": [],
   "source": [
    "# Generate a line plot of time point versus tumor volume for a mouse treated with Capomulin\n",
    "capo_line = merge_mouse.groupby(['Mouse ID']).get_group('y793')\n",
    "capo_line"
   ]
  },
  {
   "cell_type": "code",
   "execution_count": null,
   "metadata": {},
   "outputs": [],
   "source": [
    "time_pt = capo_line['Timepoint']\n",
    "volume1 = capo_line['Tumor Volume (mm3)']\n",
    "plt.plot(time_pt, volume1)\n",
    "plt.xticks(np.arange(min(time_pt), max(time_pt)+1, 5))\n",
    "plt.title('Results for Capomulin on Mouse ID y793')\n",
    "plt.xlabel('Timepoint (days)')\n",
    "plt.ylabel('Tumor Volume (mm3)')\n",
    "plt.grid(linestyle='dashed')\n",
    "plt.show()"
   ]
  },
  {
   "cell_type": "code",
   "execution_count": null,
   "metadata": {},
   "outputs": [],
   "source": [
    "# Generate a scatter plot of mouse weight versus average tumor volume for the Capomulin regimen\n",
    "capo_sca = merge_mouse.groupby(['Drug Regimen']).get_group('Capomulin')\n",
    "capo_sca.head()"
   ]
  },
  {
   "cell_type": "code",
   "execution_count": null,
   "metadata": {},
   "outputs": [],
   "source": [
    "weight = capo_sca['Weight (g)']\n",
    "tu_vol = capo_sca['Tumor Volume (mm3)']\n",
    "plt.scatter(weight, tu_vol, marker=\"o\", facecolors=\"teal\", edgecolors=\"black\")\n",
    "plt.xlim(14,26)\n",
    "plt.ylim(20,50)\n",
    "plt.xticks(np.arange(min(weight), max(weight)+1, 1))\n",
    "plt.title('Mouse Weight vs. Average Tumor Volume')\n",
    "plt.xlabel('Weight (g)')\n",
    "plt.ylabel('Tumor Volume (mm3)')\n",
    "plt.grid(linestyle='dashed')\n",
    "plt.show()"
   ]
  },
  {
   "cell_type": "code",
   "execution_count": null,
   "metadata": {},
   "outputs": [],
   "source": [
    "# Calculate the correlation coefficient and linear regression model for mouse weight\n",
    "# and average tumor volume for the Capomulin regimen\n",
    "cor_w_v = st.pearsonr(capo_sca['Weight (g)'],capo_sca['Tumor Volume (mm3)'])\n",
    "cor_w_v"
   ]
  },
  {
   "cell_type": "code",
   "execution_count": null,
   "metadata": {},
   "outputs": [],
   "source": [
    "mod_w_v = st.linregress(capo_sca['Weight (g)'],capo_sca['Tumor Volume (mm3)'])\n",
    "mod_w_v"
   ]
  },
  {
   "cell_type": "code",
   "execution_count": null,
   "metadata": {},
   "outputs": [],
   "source": [
    "slope = 0.9609669432428346\n",
    "intercept = 21.489827213299584"
   ]
  },
  {
   "cell_type": "code",
   "execution_count": null,
   "metadata": {},
   "outputs": [],
   "source": [
    "trend = capo_sca['Weight (g)'] * slope + intercept\n",
    "plt.scatter(weight, tu_vol, marker=\"o\", facecolors=\"teal\", edgecolors=\"black\")\n",
    "plt.xlim(14,26)\n",
    "plt.ylim(20,50)\n",
    "plt.xticks(np.arange(min(weight), max(weight)+1, 1))\n",
    "plt.title('Mouse Weight vs. Average Tumor Volume')\n",
    "plt.xlabel('Weight (g)')\n",
    "plt.ylabel('Tumor Volume (mm3)')\n",
    "plt.plot(capo_sca['Weight (g)'], trend, color='red')\n",
    "plt.grid(linestyle='dashed')\n",
    "plt.show()"
   ]
  },
  {
   "cell_type": "code",
   "execution_count": null,
   "metadata": {},
   "outputs": [],
   "source": []
  }
 ],
 "metadata": {
  "anaconda-cloud": {},
  "kernelspec": {
   "display_name": "Python 3",
   "language": "python",
   "name": "python3"
  },
  "language_info": {
   "codemirror_mode": {
    "name": "ipython",
    "version": 3
   },
   "file_extension": ".py",
   "mimetype": "text/x-python",
   "name": "python",
   "nbconvert_exporter": "python",
   "pygments_lexer": "ipython3",
   "version": "3.7.4"
  }
 },
 "nbformat": 4,
 "nbformat_minor": 2
}
